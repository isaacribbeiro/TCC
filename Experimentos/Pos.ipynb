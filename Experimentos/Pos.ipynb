{
 "cells": [
  {
   "cell_type": "code",
   "execution_count": 6,
   "metadata": {},
   "outputs": [],
   "source": [
    "import spacy\n",
    "from spacy.lang.pt.examples import sentences\n",
    "import pandas as pd\n",
    "import numpy as np\n",
    "import nltk\n",
    "from nltk.corpus import stopwords \n",
    "\n",
    "data = ['Gostaria de DESFAZER UM CADASTRO que comecei, porém não está me dando a opção.']\n",
    "\n",
    "nlp = spacy.load('pt_core_news_sm')\n",
    "\n",
    "pos = []\n",
    "\n",
    "for i in range(len(data)):\n",
    "\tdoc = nlp(data[i])\n",
    "\tl = []\n",
    "\t#print(doc.text)\n",
    "\tfor token in doc:\n",
    "\t\tt = (token.text, token.pos_)\n",
    "\t\tl.append(t)\n",
    "#\t\tt = (token.text, token.dep_)\n",
    "\tpos.append(l)"
   ]
  },
  {
   "cell_type": "code",
   "execution_count": 7,
   "metadata": {},
   "outputs": [
    {
     "name": "stdout",
     "output_type": "stream",
     "text": [
      "[[('Gostaria', 'VERB'), ('de', 'ADP'), ('DESFAZER', 'PROPN'), ('UM', 'DET'), ('CADASTRO', 'PROPN'), ('que', 'PRON'), ('comecei', 'VERB'), (',', 'PUNCT'), ('porém', 'ADV'), ('não', 'ADV'), ('está', 'AUX'), ('me', 'PRON'), ('dando', 'VERB'), ('a', 'DET'), ('opção', 'NOUN'), ('.', 'PUNCT')]]\n"
     ]
    }
   ],
   "source": [
    "print(pos)"
   ]
  },
  {
   "cell_type": "code",
   "execution_count": null,
   "metadata": {},
   "outputs": [],
   "source": []
  }
 ],
 "metadata": {
  "kernelspec": {
   "display_name": "Python 2",
   "language": "python",
   "name": "python2"
  },
  "language_info": {
   "codemirror_mode": {
    "name": "ipython",
    "version": 3
   },
   "file_extension": ".py",
   "mimetype": "text/x-python",
   "name": "python",
   "nbconvert_exporter": "python",
   "pygments_lexer": "ipython3",
   "version": "3.7.6"
  }
 },
 "nbformat": 4,
 "nbformat_minor": 2
}
