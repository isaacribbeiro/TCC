{
 "cells": [
  {
   "cell_type": "code",
   "execution_count": 2,
   "metadata": {},
   "outputs": [
    {
     "ename": "SyntaxError",
     "evalue": "invalid syntax (<ipython-input-2-3dc1bec47c50>, line 23)",
     "output_type": "error",
     "traceback": [
      "\u001b[0;36m  File \u001b[0;32m\"<ipython-input-2-3dc1bec47c50>\"\u001b[0;36m, line \u001b[0;32m23\u001b[0m\n\u001b[0;31m    if pos[i][j]\u001b[0m\n\u001b[0m                ^\u001b[0m\n\u001b[0;31mSyntaxError\u001b[0m\u001b[0;31m:\u001b[0m invalid syntax\n"
     ]
    }
   ],
   "source": [
    "import spacy\n",
    "from spacy.lang.pt.examples import sentences\n",
    "import pandas as pd\n",
    "import numpy as np\n",
    "\n",
    "data = pd.read_csv('pruNormalized (2).csv')\n",
    "\n",
    "nlp = spacy.load('pt_core_news_sm')\n",
    "\n",
    "pos = []\n",
    "\n",
    "for i in range(len(data)):\n",
    "\tdoc = nlp(data['CommentClean'][i])\n",
    "\tl = []\n",
    "\tfor token in doc:\n",
    "\t\tt = (token.text, token.pos_)\n",
    "\t\tl.append(t)\n",
    "\tpos.append(l)     \n",
    "#ser = pd.DataFrame(data=np.array(pos), index= range(len(data)), columns= ['CommentPOS'])\n",
    "#ser.to_csv('pruPos (2).csv', index=False)"
   ]
  },
  {
   "cell_type": "code",
   "execution_count": null,
   "metadata": {},
   "outputs": [],
   "source": []
  }
 ],
 "metadata": {
  "kernelspec": {
   "display_name": "Python 3",
   "language": "python",
   "name": "python3"
  },
  "language_info": {
   "codemirror_mode": {
    "name": "ipython",
    "version": 3
   },
   "file_extension": ".py",
   "mimetype": "text/x-python",
   "name": "python",
   "nbconvert_exporter": "python",
   "pygments_lexer": "ipython3",
   "version": "3.7.6"
  }
 },
 "nbformat": 4,
 "nbformat_minor": 4
}
