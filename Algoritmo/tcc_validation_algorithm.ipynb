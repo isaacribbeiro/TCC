{
 "cells": [
  {
   "cell_type": "code",
   "execution_count": 4,
   "metadata": {},
   "outputs": [
    {
     "name": "stdout",
     "output_type": "stream",
     "text": [
      "Hipótese 1:  47\n",
      "Hipótese 3:  81\n"
     ]
    }
   ],
   "source": [
    "import pandas as pd\n",
    "import spacy\n",
    "import numpy as np\n",
    "\n",
    "manual_data = pd.read_excel('manual_classification.xlsx')\n",
    "automatic_data = pd.read_excel('automatic_classification.xlsx')\n",
    "nlp = spacy.load('pt_core_news_sm')\n",
    "\n",
    "validation = []\n",
    "h1 = 0\n",
    "h3 = 0\n",
    "\n",
    "for i in manual_data.index:\n",
    "    manual_doc = nlp(manual_data.loc[i]['funcionality'])\n",
    "    automatic_doc = nlp(automatic_data.loc[i]['funcionality'])\n",
    "    hypotesis_doc = nlp(automatic_data.loc[i]['hypothesis'])\n",
    "    \n",
    "    if (str(manual_doc) == str(automatic_doc)):\n",
    "        validation.append('Right')\n",
    "        if(str(hypotesis_doc)) == '1':\n",
    "            h1 = h1 + 1\n",
    "        elif(str(hypotesis_doc)) == '3':\n",
    "            h3 = h3 + 1\n",
    "    else:\n",
    "        validation.append('Wrong')\n",
    "\n",
    "print(\"Hipótese 1: \", h1)\n",
    "print(\"Hipótese 3: \", h1+h3)\n",
    "# Hipótese 1:  47\n",
    "# Hipótese 3:  81\n",
    "\n",
    "val = pd.DataFrame(data=np.array(validation), index= range(len(manual_data)), columns= ['Validation'])\n",
    "manual_pru = pd.DataFrame(data=np.array(manual_data['funcionality']), index= range(len(manual_data)), columns= ['Manual Classification'])\n",
    "auto_pru = pd.DataFrame(data=np.array(automatic_data['funcionality']), index= range(len(manual_data)), columns= ['Automatic Classification'])\n",
    "pru = pd.DataFrame(data=np.array(automatic_data['comment']), index= range(len(manual_data)), columns= ['PRU'])\n",
    "df = pd.concat([pru, manual_pru, auto_pru, val], axis=1)\n",
    "df.to_excel('validated_classification.xlsx', index=False)"
   ]
  },
  {
   "cell_type": "code",
   "execution_count": null,
   "metadata": {},
   "outputs": [],
   "source": []
  }
 ],
 "metadata": {
  "kernelspec": {
   "display_name": "Python 3",
   "language": "python",
   "name": "python3"
  },
  "language_info": {
   "codemirror_mode": {
    "name": "ipython",
    "version": 3
   },
   "file_extension": ".py",
   "mimetype": "text/x-python",
   "name": "python",
   "nbconvert_exporter": "python",
   "pygments_lexer": "ipython3",
   "version": "3.7.6"
  }
 },
 "nbformat": 4,
 "nbformat_minor": 4
}
